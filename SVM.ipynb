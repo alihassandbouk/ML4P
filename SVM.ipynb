{
 "cells": [
  {
   "cell_type": "markdown",
   "metadata": {},
   "source": [
    "# Explainable SVM for Medical Images\n"
   ]
  },
  {
   "cell_type": "code",
   "execution_count": null,
   "metadata": {},
   "outputs": [],
   "source": [
    "import os\n",
    "import numpy as np\n",
    "import cv2\n",
    "import mlflow\n",
    "import shap\n",
    "import lime\n",
    "import lime.lime_image\n",
    "from skimage.segmentation import mark_boundaries\n",
    "from sklearn.svm import SVC\n",
    "from sklearn.pipeline import make_pipeline\n",
    "from sklearn.preprocessing import StandardScaler\n",
    "from sklearn.metrics import classification_report, accuracy_score\n",
    "from sklearn.model_selection import train_test_split\n",
    "from sklearn.decomposition import PCA\n",
    "import matplotlib.pyplot as plt\n",
    "from mlflow.models.signature import infer_signature\n"
   ]
  },
  {
   "cell_type": "code",
   "execution_count": null,
   "metadata": {},
   "outputs": [],
   "source": [
    "DATA_DIR = \"/home/alidb/Desktop/Masters/ML4P/project/DATA/chest_xray\"  \n",
    "\n",
    "def load_data(img_size=128):\n",
    "    images, labels = [], []\n",
    "    for label, folder in enumerate(['NORMAL', 'PNEUMONIA']):\n",
    "        path = os.path.join(DATA_DIR, 'train', folder)\n",
    "        for file in os.listdir(path):\n",
    "            img = cv2.imread(os.path.join(path, file), cv2.IMREAD_GRAYSCALE)\n",
    "            img = cv2.resize(img, (img_size, img_size))\n",
    "            images.append(img.flatten())\n",
    "            labels.append(label)\n",
    "    return np.array(images), np.array(labels)\n",
    "\n",
    "def train_svm_model(X_train, y_train, kernel='linear'):\n",
    "    model = make_pipeline(StandardScaler(), SVC(kernel=kernel, probability=True))\n",
    "    model.fit(X_train, y_train)\n",
    "    return model\n",
    "\n",
    "def explain_with_lime(model, X, img_shape, index=0):\n",
    "    explainer = lime.lime_image.LimeImageExplainer()\n",
    "    def predict_fn(images):\n",
    "        images = np.array([i.flatten() for i in images])\n",
    "        return model.predict_proba(images)\n",
    "\n",
    "    image = X[index].reshape(img_shape)\n",
    "    explanation = explainer.explain_instance(image, predict_fn, top_labels=1, hide_color=0, num_samples=1000)\n",
    "    temp, mask = explanation.get_image_and_mask(explanation.top_labels[0], positive_only=True, num_features=5, hide_rest=False)\n",
    "    plt.imshow(mark_boundaries(temp, mask))\n",
    "    plt.title(\"LIME Explanation\")\n",
    "    plt.axis('off')\n",
    "    plt.show()\n",
    "\n",
    "def explain_with_shap(model, X_sample):\n",
    "    explainer = shap.Explainer(model.predict_proba, X_sample[:100])\n",
    "    shap_values = explainer(X_sample[:10])\n",
    "    shap.image_plot(shap_values)"
   ]
  },
  {
   "cell_type": "code",
   "execution_count": null,
   "metadata": {},
   "outputs": [],
   "source": [
    "mlflow.set_experiment(\"Medical SVM Pneumonia Detection\")\n",
    "\n",
    "X, y = load_data()\n",
    "X_train, X_test, y_train, y_test = train_test_split(X, y, test_size=0.2, random_state=42)\n",
    "\n",
    "for kernel in ['linear', 'rbf', 'poly']:\n",
    "    with mlflow.start_run(run_name=f\"SVM_{kernel}\"):\n",
    "        model = train_svm_model(X_train, y_train, kernel)\n",
    "        y_pred = model.predict(X_test)\n",
    "        acc = accuracy_score(y_test, y_pred)\n",
    "        mlflow.log_param(\"kernel\", kernel)\n",
    "        mlflow.log_metric(\"accuracy\", acc)\n",
    "        mlflow.sklearn.log_model(model, f\"svm_{kernel}_model\")\n",
    "        print(f\"\\n--- SVM ({kernel}) ---\\n\", classification_report(y_test, y_pred))\n",
    "\n",
    "        explain_with_lime(model.named_steps['svc'], X_test, img_shape=(128, 128), index=0)\n",
    "        \n",
    "        try:\n",
    "            explain_with_shap(model.named_steps['svc'], X_test)\n",
    "        except Exception as e:\n",
    "            print(f\"SHAP explanation failed: {e}\")"
   ]
  }
 ],
 "metadata": {
  "language_info": {
   "name": "python"
  }
 },
 "nbformat": 4,
 "nbformat_minor": 2
}
